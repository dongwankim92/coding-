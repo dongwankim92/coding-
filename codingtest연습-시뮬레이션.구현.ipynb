{
 "cells": [
  {
   "cell_type": "markdown",
   "metadata": {},
   "source": [
    "## 상하좌우 문제\n",
    "### NxN크기의 정사각형(matrix)에서 출발점인 가장 왼쪽 위 좌표(1,1)에서 상, 하, 좌 우 방향으로 이동할 수 있을때 n번 이동 후의 위치는?"
   ]
  },
  {
   "cell_type": "code",
   "execution_count": 3,
   "metadata": {},
   "outputs": [
    {
     "name": "stdout",
     "output_type": "stream",
     "text": [
      "5\n",
      "l l r r u \n",
      "2 3\n"
     ]
    }
   ],
   "source": [
    "##데이터 입력\n",
    "n=int(input())\n",
    "x,y=1,1\n",
    "plan=input().split()\n",
    "\n",
    "##좌 우 상 하 방향입력\n",
    "dx=[0,0,1,-1]\n",
    "dy=[-1,1,0,0]\n",
    "move_type=['l','r','u','d']\n",
    "\n",
    "for p in plan:\n",
    "  for i in range(len(move_type)):\n",
    "    if p == move_type[i]:\n",
    "      nx=x+dx[i]\n",
    "      ny=y+dy[i]\n",
    "    ##배열을 벗어날 경우\n",
    "    if nx < 1 or ny <1 or nx > n or ny > n:\n",
    "      continue\n",
    "\n",
    "    x,y=nx,ny\n",
    "\n",
    "print(nx,ny)\n",
    "    "
   ]
  },
  {
   "cell_type": "markdown",
   "metadata": {},
   "source": [
    "##  시간 문제\n",
    "### 00시 00분 00초부터 n시 59분 59초까지의 모든 시각 중에서 3이 하나라도 포함되는 모든 경우의 수를 센다"
   ]
  },
  {
   "cell_type": "code",
   "execution_count": null,
   "metadata": {},
   "outputs": [],
   "source": [
    "#n시 59분 59초\n",
    "ㅜ=int(input())\n",
    "\n",
    "count=0\n",
    "\n",
    "\n",
    "for i in range(h+1):\n",
    "  for j in range(60):\n",
    "    for k in range(60):\n",
    "      a=str(i)+str(j)+str(k)\n",
    "      if '3' in a:\n",
    "        count +=1\n",
    "print(count)"
   ]
  }
 ],
 "metadata": {
  "kernelspec": {
   "display_name": "Python 3",
   "language": "python",
   "name": "python3"
  },
  "language_info": {
   "codemirror_mode": {
    "name": "ipython",
    "version": 3
   },
   "file_extension": ".py",
   "mimetype": "text/x-python",
   "name": "python",
   "nbconvert_exporter": "python",
   "pygments_lexer": "ipython3",
   "version": "3.7.3"
  }
 },
 "nbformat": 4,
 "nbformat_minor": 4
}
