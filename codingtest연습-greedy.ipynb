{
 "cells": [
  {
   "cell_type": "markdown",
   "metadata": {},
   "source": [
    "# 1. Greedy algorithm \n",
    "## 1) 거스름돈\n",
    "### 당신은 음식점의 계산을 도와주는 점원입니다. 카운터에는 거스름돈으로 사용할 500원, 100원, 50원, 10원짜리 동전이 무한히 존재한다고 가정합니다. 손님에게 거슬러 주어야 할 돈이 N원일 때, 거슬러 주어야 할 동전의 최소 개수를 구하세요. 단, 거슬러 줘야 할 돈 N은 항상 10의 배수입니다."
   ]
  },
  {
   "cell_type": "code",
   "execution_count": 1,
   "metadata": {},
   "outputs": [
    {
     "name": "stdout",
     "output_type": "stream",
     "text": [
      "6\n"
     ]
    }
   ],
   "source": [
    "n=1260\n",
    "count=0\n",
    "\n",
    "array=[500,100,50,10]\n",
    "\n",
    "for coin in array:\n",
    "  count += n//coin\n",
    "  n %= coin\n",
    "  \n",
    "print(count)\n"
   ]
  },
  {
   "cell_type": "markdown",
   "metadata": {},
   "source": [
    "## 2) 1이 될 때까지\n",
    "### N이 1이 될 때까지, N-1을하거나 N/K를 하여 최소한의 횟수로 1을 만든다."
   ]
  },
  {
   "cell_type": "code",
   "execution_count": 2,
   "metadata": {},
   "outputs": [
    {
     "name": "stdout",
     "output_type": "stream",
     "text": [
      "6\n"
     ]
    }
   ],
   "source": [
    "n=25\n",
    "k=3\n",
    "result=0\n",
    "\n",
    "while True:\n",
    "  target=(n//k)*k\n",
    "  result += (n-target)\n",
    "  n=target\n",
    "  if n<k:\n",
    "    break\n",
    "\n",
    "  result += 1\n",
    "  n//=k\n",
    "\n",
    "result += (n-1)\n",
    "print(result)"
   ]
  },
  {
   "cell_type": "markdown",
   "metadata": {},
   "source": [
    "## 3)곱하기 혹은 더하기\n",
    "### 왼쪽숫자부터 순서대로 * 나 +하여 가장 큰 수를 만든다.(사칙연산 순서 미적용)\n",
    "#### 두 수에 대하여 연산을 수행할 때, 두 수 중 하나라도 0이나 1이면 더하고 아닌 경우에는 곱한다."
   ]
  },
  {
   "cell_type": "code",
   "execution_count": 40,
   "metadata": {},
   "outputs": [
    {
     "name": "stdout",
     "output_type": "stream",
     "text": [
      "0\n",
      "576\n"
     ]
    }
   ],
   "source": [
    "input=[0,2,9,8,4]\n",
    "result=input[0]\n",
    "print(result)\n",
    "\n",
    "for i in range(1,len(input)):\n",
    "    num=int(input[i])\n",
    "    if num <=1 or result <=1:\n",
    "        result+=num\n",
    "    else:\n",
    "        result*=num\n",
    "\n",
    "print(result)\n",
    "\n"
   ]
  }
 ],
 "metadata": {
  "kernelspec": {
   "display_name": "Python 3",
   "language": "python",
   "name": "python3"
  },
  "language_info": {
   "codemirror_mode": {
    "name": "ipython",
    "version": 3
   },
   "file_extension": ".py",
   "mimetype": "text/x-python",
   "name": "python",
   "nbconvert_exporter": "python",
   "pygments_lexer": "ipython3",
   "version": "3.7.3"
  }
 },
 "nbformat": 4,
 "nbformat_minor": 4
}
